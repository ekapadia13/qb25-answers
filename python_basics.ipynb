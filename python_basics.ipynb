{
 "cells": [
  {
   "cell_type": "markdown",
   "id": "cff1ab76",
   "metadata": {},
   "source": [
    "# Assigment 1 - Python basics\n",
    "\n",
    "### Overview\n",
    "------------\n",
    "\n",
    "Genomic annotations are often represented in the browser extensible data (BED) file format. This consists of genomic location data and may include labels, scores, strandedness, and other features for each entry. In this exercise, you will be looking at data from a basic BED file containing gene boundaries and expression levels to calculate some basic descriptive statistics.\n",
    "\n",
    "Biological Learning Objectives\n",
    "\n",
    "- Understand how interval data is represented in the BED file format\n",
    "- Use descriptive statistics to characterize a set of gene annotations\n",
    "\n",
    "Computational Learning Objectives\n",
    "\n",
    "- Create, modify, and access data from lists\n",
    "- Use built-in string functions to manipulate text\n",
    "- Convert between different data types\n",
    "- Step through list items using a `for` loop\n",
    "- Condition execution of code based on an `if` statement\n",
    "\n",
    "### Instructions\n",
    "----------------\n",
    "\n",
    "- Save a copy of this notebook as `~/qbXX-answers/python_basics.ipynb`.\n",
    "- Fill in answers in the available code cells below.\n",
    "- Remember to comment your code to help yourself and us know what each part is intended to do.\n",
    "- You may find the functions `sorted()`, `sum()`, and `len()`, which all accept a list as their argument, useful for completing this exercise"
   ]
  },
  {
   "cell_type": "code",
   "execution_count": 68,
   "id": "6c7f1741",
   "metadata": {},
   "outputs": [],
   "source": [
    "# Use this as your input data\n",
    "\n",
    "text_data = \"chrI\\t8377406\\t8390027\\tNM_059873.7\\t6\\t-\\nchrI\\t8377598\\t8392758\\tNM_182066.7\\t502\\t-\\nchrI\\t8377600\\t8392768\\tNM_001129046.3\\t7\\t-\\nchrMt\\t1041473\\t1049600\\tNM_058410.5\\t476\\t+\\nchrI\\t3144409\\t3147793\\tNM_058707.5\\t531\\t-\\nchrI\\t4193240\\t4203303\\tNM_058924.6\\t673\\t+\\nchrI\\t6284972\\t6294057\\tNM_059412.6\\t532\\t+\\nchrI\\t6289432\\t6294068\\tNM_001374900.1\\t615\\t+\\nchrI\\t6290315\\t6293988\\tNM_001374901.1\\t709\\t+\\nchrMt\\t7339231\\t7345684\\tNM_001136303.4\\t7\\t+\\nchrI\\t9431248\\t9441017\\tNM_060105.7\\t481\\t+\\nchrI\\t9435464\\t9441029\\tNM_060106.7\\t3\\t+\\nchrMt\\t11526917\\t11557854\\tNM_060545.6\\t498\\t-\\nchrI\\t11526922\\t11552160\\tNM_001383731.1\\t536\\t-\\nchrI\\t11527027\\t11557792\\tNM_001306313.4\\t6\\t-\\nchrI\\t11527076\\t11541127\\tNM_001306312.3\\t7\\t-\\nchrI\\t11527076\\t11546567\\tNM_001306311.3\\t694\\t-\\nchrI\\t11527076\\t11552106\\tNM_001306310.3\\t2\\t-\"\n",
    "\n",
    "# This is what the data would look like in a file\n",
    "# chrI    8377406 8390027 NM_059873.7     6       -\n",
    "# chrI    8377598 8392758 NM_182066.7     502     -\n",
    "# chrI    8377600 8392768 NM_001129046.3  7       -\n",
    "# chrMt   1041473 1049600 NM_058410.5     476     +\n",
    "# chrI    3144409 3147793 NM_058707.5     531     -\n",
    "# chrI    4193240 4203303 NM_058924.6     673     +\n",
    "# chrI    6284972 6294057 NM_059412.6     532     +\n",
    "# chrI    6289432 6294068 NM_001374900.1  615     +\n",
    "# chrI    6290315 6293988 NM_001374901.1  709     +\n",
    "# chrMt   7339231 7345684 NM_001136303.4  7       +\n",
    "# chrI    9431248 9441017 NM_060105.7     481     +\n",
    "# chrI    9435464 9441029 NM_060106.7     3       +\n",
    "# chrMt   11526917        11557854        NM_060545.6     498     -\n",
    "# chrI    11526922        11552160        NM_001383731.1  536     -\n",
    "# chrI    11527027        11557792        NM_001306313.4  6       -\n",
    "# chrI    11527076        11541127        NM_001306312.3  7       -\n",
    "# chrI    11527076        11546567        NM_001306311.3  694     -\n",
    "# chrI    11527076        11552106        NM_001306310.3  2       -"
   ]
  },
  {
   "cell_type": "markdown",
   "id": "7bc62460",
   "metadata": {},
   "source": [
    "\n",
    "### Excercises\n",
    "--------------\n",
    "\n",
    "1. Parse the data from the data string, converting values to appropriate data types as necessary\n",
    "    \n",
    "    - Split the string by the newline character (`\\n`) to create a list containing one line per list-entry\n",
    "    - Use a `for` loop to step through the data, line by line\n",
    "    - Split each line by the tab characer (`\\t`) to get values for ecah column\n",
    "    - Convert position values to integers and expression values to floats"
   ]
  },
  {
   "cell_type": "code",
   "execution_count": null,
   "id": "db06c36a",
   "metadata": {},
   "outputs": [
    {
     "name": "stdout",
     "output_type": "stream",
     "text": [
      "['chrI\\t8377406\\t8390027\\tNM_059873.7\\t6\\t-', 'chrI\\t8377598\\t8392758\\tNM_182066.7\\t502\\t-', 'chrI\\t8377600\\t8392768\\tNM_001129046.3\\t7\\t-', 'chrMt\\t1041473\\t1049600\\tNM_058410.5\\t476\\t+', 'chrI\\t3144409\\t3147793\\tNM_058707.5\\t531\\t-', 'chrI\\t4193240\\t4203303\\tNM_058924.6\\t673\\t+', 'chrI\\t6284972\\t6294057\\tNM_059412.6\\t532\\t+', 'chrI\\t6289432\\t6294068\\tNM_001374900.1\\t615\\t+', 'chrI\\t6290315\\t6293988\\tNM_001374901.1\\t709\\t+', 'chrMt\\t7339231\\t7345684\\tNM_001136303.4\\t7\\t+', 'chrI\\t9431248\\t9441017\\tNM_060105.7\\t481\\t+', 'chrI\\t9435464\\t9441029\\tNM_060106.7\\t3\\t+', 'chrMt\\t11526917\\t11557854\\tNM_060545.6\\t498\\t-', 'chrI\\t11526922\\t11552160\\tNM_001383731.1\\t536\\t-', 'chrI\\t11527027\\t11557792\\tNM_001306313.4\\t6\\t-', 'chrI\\t11527076\\t11541127\\tNM_001306312.3\\t7\\t-', 'chrI\\t11527076\\t11546567\\tNM_001306311.3\\t694\\t-', 'chrI\\t11527076\\t11552106\\tNM_001306310.3\\t2\\t-']\n",
      "chrI\t8377406\t8390027\tNM_059873.7\t6\t-\n",
      "['chrI', '8377406', '8390027', 'NM_059873.7', '6', '-']\n",
      "chrI\t8377598\t8392758\tNM_182066.7\t502\t-\n",
      "['chrI', '8377598', '8392758', 'NM_182066.7', '502', '-']\n",
      "chrI\t8377600\t8392768\tNM_001129046.3\t7\t-\n",
      "['chrI', '8377600', '8392768', 'NM_001129046.3', '7', '-']\n",
      "chrMt\t1041473\t1049600\tNM_058410.5\t476\t+\n",
      "['chrMt', '1041473', '1049600', 'NM_058410.5', '476', '+']\n",
      "chrI\t3144409\t3147793\tNM_058707.5\t531\t-\n",
      "['chrI', '3144409', '3147793', 'NM_058707.5', '531', '-']\n",
      "chrI\t4193240\t4203303\tNM_058924.6\t673\t+\n",
      "['chrI', '4193240', '4203303', 'NM_058924.6', '673', '+']\n",
      "chrI\t6284972\t6294057\tNM_059412.6\t532\t+\n",
      "['chrI', '6284972', '6294057', 'NM_059412.6', '532', '+']\n",
      "chrI\t6289432\t6294068\tNM_001374900.1\t615\t+\n",
      "['chrI', '6289432', '6294068', 'NM_001374900.1', '615', '+']\n",
      "chrI\t6290315\t6293988\tNM_001374901.1\t709\t+\n",
      "['chrI', '6290315', '6293988', 'NM_001374901.1', '709', '+']\n",
      "chrMt\t7339231\t7345684\tNM_001136303.4\t7\t+\n",
      "['chrMt', '7339231', '7345684', 'NM_001136303.4', '7', '+']\n",
      "chrI\t9431248\t9441017\tNM_060105.7\t481\t+\n",
      "['chrI', '9431248', '9441017', 'NM_060105.7', '481', '+']\n",
      "chrI\t9435464\t9441029\tNM_060106.7\t3\t+\n",
      "['chrI', '9435464', '9441029', 'NM_060106.7', '3', '+']\n",
      "chrMt\t11526917\t11557854\tNM_060545.6\t498\t-\n",
      "['chrMt', '11526917', '11557854', 'NM_060545.6', '498', '-']\n",
      "chrI\t11526922\t11552160\tNM_001383731.1\t536\t-\n",
      "['chrI', '11526922', '11552160', 'NM_001383731.1', '536', '-']\n",
      "chrI\t11527027\t11557792\tNM_001306313.4\t6\t-\n",
      "['chrI', '11527027', '11557792', 'NM_001306313.4', '6', '-']\n",
      "chrI\t11527076\t11541127\tNM_001306312.3\t7\t-\n",
      "['chrI', '11527076', '11541127', 'NM_001306312.3', '7', '-']\n",
      "chrI\t11527076\t11546567\tNM_001306311.3\t694\t-\n",
      "['chrI', '11527076', '11546567', 'NM_001306311.3', '694', '-']\n",
      "chrI\t11527076\t11552106\tNM_001306310.3\t2\t-\n",
      "['chrI', '11527076', '11552106', 'NM_001306310.3', '2', '-']\n"
     ]
    }
   ],
   "source": [
    "# Split the data string into a list of individual lines\n",
    "my_newline_data = text_data.split(\"\\n\")\n",
    "print(my_newline_data)\n",
    "# Step through each line in the list\n",
    "for data in my_newline_data:\n",
    "    print(data)\n",
    "    # Split the line into a list of individual fields\n",
    "    my_line_data = data.split(\"\\t\")\n",
    "    print(my_line_data)\n",
    "    # Assign each field to a variable (chrom, start, stop, etc.), converting the data type if necessary\n",
    "    # position values are the \"start\" and \"stop\" columns and expression value is the \"exp\" column\n",
    "    chrom = my_line_data[0]\n",
    "    start = my_line_data[1]\n",
    "    start_int = int(start)\n",
    "    end = my_line_data [2]\n",
    "    end_int = int(end)\n",
    "    sample = my_line_data [3]\n",
    "    exp = my_line_data [4]\n",
    "    exp_float = float(exp)\n",
    "    strand = my_line_data [5]"
   ]
  },
  {
   "cell_type": "markdown",
   "id": "5802f9e7",
   "metadata": {},
   "source": [
    "2. Create and populate lists with the parsed data using one to record expression values, one to record gene lengths, and one to record strandedness, skipping any genes from the mitochondrial chromosome\n",
    "\n",
    "    - Use your above code as a starting point for this, adding lines inside the `for` loop for recording relevant values\n",
    "    - It will be much easier to analyze the strandedness data if you convert it into ones and zeros (you can use an `if` statement for this)"
   ]
  },
  {
   "cell_type": "code",
   "execution_count": 131,
   "id": "fefd971b",
   "metadata": {},
   "outputs": [
    {
     "name": "stdout",
     "output_type": "stream",
     "text": [
      "This is a list including the expression values: [6.0, 502.0, 7.0, 531.0, 673.0, 532.0, 615.0, 709.0, 481.0, 3.0, 536.0, 6.0, 7.0, 694.0, 2.0]\n",
      "This is a list including the gene length values: [12621, 15160, 15168, 3384, 10063, 9085, 4636, 3673, 9769, 5565, 25238, 30765, 14051, 19491, 25030]\n",
      "This is a list including the strandedness values: [0, 0, 0, 0, 1, 1, 1, 1, 1, 1, 0, 0, 0, 0, 0]\n"
     ]
    }
   ],
   "source": [
    "# Split the data string into a list of individual lines\n",
    "my_newline_data = text_data.split(\"\\n\")\n",
    "# Create a list for recording expression data, one for recording gene lengths, and one for recording strandedness\n",
    "exp_list = []\n",
    "gene_length_list = []\n",
    "strandedness_list = []\n",
    "# Step through each line in the list\n",
    "for data in my_newline_data:\n",
    "    # Split the line into a list of individual fields\n",
    "    my_line_data = data.split(\"\\t\")\n",
    "    # Assign each field to a variable (chrom, start, stop, etc.), converting the data type if necessary\n",
    "    chrom = my_line_data[0]\n",
    "    start = my_line_data[1]\n",
    "    start_int = int(start)\n",
    "    end = my_line_data [2]\n",
    "    end_int = int(end)\n",
    "    sample = my_line_data [3]\n",
    "    exp = my_line_data [4]\n",
    "    exp_float = float(exp)\n",
    "    strand = my_line_data [5]\n",
    "    # Check if gene is from \"chrMt\" and if so, skip\n",
    "    if chrom == \"chrMt\":\n",
    "        continue\n",
    "    # Add the expression value, gene size, and strandedness to their corresponding lists\n",
    "    exp_list.append(exp_float)\n",
    "    gene_length = end_int-start_int\n",
    "    gene_length_list.append(gene_length)\n",
    "    if strand == \"+\":\n",
    "        strand=1\n",
    "    else:\n",
    "        strand=0\n",
    "    strandedness_list.append(strand)\n",
    "\n",
    "print(\"This is a list including the expression values:\" , exp_list)\n",
    "print(\"This is a list including the gene length values:\" , gene_length_list)\n",
    "print(\"This is a list including the strandedness values:\" , strandedness_list)"
   ]
  },
  {
   "cell_type": "markdown",
   "id": "f48d12a4",
   "metadata": {},
   "source": [
    "3. Calculate and report the 1st, 2nd, and 3rd quartiles of gene expression\n",
    "\n",
    "    - Your expression values will need to be in order to determine quartiles\n",
    "    - The first quartile is the 0.25 * (n + 1)th item, the second quartile is the 0.5 * (n + 1)th item, etc.\n",
    "    - Because python starts counting at zero, the ith item is at index i - 1\n",
    "    - Remember that the get a value from the list at specific index, you can only use intergers, not floats\n",
    "    - Use a `print` statement to report your answer"
   ]
  },
  {
   "cell_type": "code",
   "execution_count": 120,
   "id": "ab23a729",
   "metadata": {},
   "outputs": [
    {
     "name": "stdout",
     "output_type": "stream",
     "text": [
      "This is the sorted expression values from lowest to highest: [2.0, 3.0, 6.0, 6.0, 7.0, 7.0, 481.0, 502.0, 531.0, 532.0, 536.0, 615.0, 673.0, 694.0, 709.0]\n",
      "This is the 1st quartile position: 4.0\n",
      "This is the 2nd quartile position: 8.0\n",
      "This is the 3rd quartile position: 12.0\n",
      "This is the 1st quartile value: 6.0\n",
      "This is the 2nd quartile value: 502.0\n",
      "This is the 3rd quartile value: 615.0\n"
     ]
    }
   ],
   "source": [
    "# Sort your expression values from lowest to highest\n",
    "exp_sorted = sorted(exp_list)\n",
    "print(\"This is the sorted expression values from lowest to highest:\" , exp_sorted)\n",
    "# Determine which position in the list corresponds to the first, second, and third quartiles\n",
    "exp_length = len(exp_sorted)\n",
    "\n",
    "exp_first = 0.25 * (exp_length + 1) \n",
    "print(\"This is the 1st quartile position:\" , exp_first)\n",
    "\n",
    "exp_second = 0.5 * (exp_length + 1)\n",
    "print (\"This is the 2nd quartile position:\" , exp_second)\n",
    "\n",
    "exp_third = 0.75 * (exp_length + 1)\n",
    "print(\"This is the 3rd quartile position:\" , exp_third)\n",
    "\n",
    "# Find the value from those positions in your expression list\n",
    "print(f\"This is the 1st quartile value: {exp_sorted[3]}\")\n",
    "print(f\"This is the 2nd quartile value: {exp_sorted[7]}\")\n",
    "print(f\"This is the 3rd quartile value: {exp_sorted[11]}\")\n",
    "\n",
    "# Report your results\n"
   ]
  },
  {
   "cell_type": "markdown",
   "id": "e51b9643",
   "metadata": {},
   "source": [
    "4. Calculate and report the minimum and maximum gene size"
   ]
  },
  {
   "cell_type": "code",
   "execution_count": 119,
   "id": "2e8a5e0d",
   "metadata": {},
   "outputs": [
    {
     "name": "stdout",
     "output_type": "stream",
     "text": [
      "This is the sorted gene sizes, from minimum to maximum: [3384, 3673, 4636, 5565, 9085, 9769, 10063, 12621, 14051, 15160, 15168, 19491, 25030, 25238, 30765]\n",
      "This is the minimum gene size: 3384\n",
      "This is the maximum gene size: 30765\n"
     ]
    }
   ],
   "source": [
    "# Sort your gene sizes values from lowest to highest\n",
    "gene_sort = sorted(gene_length_list)\n",
    "print(\"This is the sorted gene sizes, from minimum to maximum:\" , gene_sort)\n",
    "# Find the largest and smallest gene sizes\n",
    "gene_min = min(gene_sort)\n",
    "gene_max = max(gene_sort)\n",
    "# Report your results\n",
    "print(\"This is the minimum gene size:\" , gene_min)\n",
    "print(\"This is the maximum gene size:\" , gene_max)"
   ]
  },
  {
   "cell_type": "markdown",
   "id": "aef852fd",
   "metadata": {},
   "source": [
    "5. Calculate and report the percent of genes that are on the positive strand"
   ]
  },
  {
   "cell_type": "code",
   "execution_count": 130,
   "id": "1e95280e",
   "metadata": {},
   "outputs": [
    {
     "name": "stdout",
     "output_type": "stream",
     "text": [
      "[0, 0, 0, 0, 1, 1, 1, 1, 1, 1, 0, 0, 0, 0, 0]\n",
      "The total number of positive strand genes are: 6\n",
      "The percent of genes on the positive strand are 40.0 %\n"
     ]
    }
   ],
   "source": [
    "# Calculate the percentage of positive strand genes\n",
    "print(strandedness_list)\n",
    "\n",
    "positive_strand = sum(strandedness_list)\n",
    "print(\"The total number of positive strand genes are:\" , positive_strand)\n",
    "\n",
    "gene_total = len(strandedness_list)\n",
    "\n",
    "pos_total = positive_strand / gene_total * 100\n",
    "# Report your results\n",
    "print(\"The percent of genes on the positive strand are\" , pos_total,\"%\")"
   ]
  }
 ],
 "metadata": {
  "kernelspec": {
   "display_name": "qb25",
   "language": "python",
   "name": "python3"
  },
  "language_info": {
   "codemirror_mode": {
    "name": "ipython",
    "version": 3
   },
   "file_extension": ".py",
   "mimetype": "text/x-python",
   "name": "python",
   "nbconvert_exporter": "python",
   "pygments_lexer": "ipython3",
   "version": "3.12.3"
  }
 },
 "nbformat": 4,
 "nbformat_minor": 5
}
